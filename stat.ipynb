{
 "metadata": {
  "language_info": {
   "codemirror_mode": {
    "name": "ipython",
    "version": 3
   },
   "file_extension": ".py",
   "mimetype": "text/x-python",
   "name": "python",
   "nbconvert_exporter": "python",
   "pygments_lexer": "ipython3",
   "version": "3.8.5-final"
  },
  "orig_nbformat": 2,
  "kernelspec": {
   "name": "python38564bit96612a4b5ef94eadb60639f7668d018d",
   "display_name": "Python 3.8.5 64-bit",
   "language": "python"
  }
 },
 "nbformat": 4,
 "nbformat_minor": 2,
 "cells": [
  {
   "cell_type": "code",
   "execution_count": 7,
   "metadata": {},
   "outputs": [],
   "source": [
    "from scipy.stats import chi2_contingency\n",
    "import pandas as pd\n",
    "import numpy as np"
   ]
  },
  {
   "source": [
    "## Dataframe preparation\n",
    "1. extracting only necessary columns\n",
    "2. cleaning from unnecessary info"
   ],
   "cell_type": "markdown",
   "metadata": {}
  },
  {
   "cell_type": "code",
   "execution_count": 99,
   "metadata": {},
   "outputs": [],
   "source": [
    "data = pd.read_pickle(\"accidents.pkl.gz\")[['p11', \"p13a\", \"p13b\"]]\n",
    "data = data[~data[\"p11\"].isin([4, 5])].rename(columns={\"p11\": \"alcohol\", \"p13a\": \"died\", \"p13b\": \"harm\"})"
   ]
  },
  {
   "source": [
    "Creating additional coulmn that shouws if result of the crash is realy bad"
   ],
   "cell_type": "markdown",
   "metadata": {}
  },
  {
   "cell_type": "code",
   "execution_count": 100,
   "metadata": {},
   "outputs": [],
   "source": [
    "data[\"result\"] = data[\"died\"] + data[\"harm\"]"
   ]
  },
  {
   "source": [
    "Masking columns to classification"
   ],
   "cell_type": "markdown",
   "metadata": {}
  },
  {
   "cell_type": "code",
   "execution_count": 101,
   "metadata": {},
   "outputs": [],
   "source": [
    "data[\"hard result?\"] = data[\"result\"] > 0\n",
    "data[\"alcohol\"] = data[\"alcohol\"] >= 7"
   ]
  },
  {
   "source": [
    "Creatin contingency table"
   ],
   "cell_type": "markdown",
   "metadata": {}
  },
  {
   "cell_type": "code",
   "execution_count": 102,
   "metadata": {},
   "outputs": [],
   "source": [
    "data = data[[\"hard result?\", \"alcohol\"]]\n",
    "new_df = data.value_counts().to_frame().unstack(level=-1)"
   ]
  },
  {
   "source": [
    "Executing alghoritm and making desidion"
   ],
   "cell_type": "markdown",
   "metadata": {}
  },
  {
   "cell_type": "code",
   "execution_count": 104,
   "metadata": {},
   "outputs": [
    {
     "output_type": "stream",
     "name": "stdout",
     "text": [
      "Accept our hipotez\n"
     ]
    }
   ],
   "source": [
    "alpha = 0.05\n",
    "stat, p, dof, expected = chi2_contingency(new_df)\n",
    "if p <= alpha:\n",
    "    print(\"Accept our hipotez\")\n",
    "else:\n",
    "    print(\"Rejcet our hipotez\")"
   ]
  }
 ]
}